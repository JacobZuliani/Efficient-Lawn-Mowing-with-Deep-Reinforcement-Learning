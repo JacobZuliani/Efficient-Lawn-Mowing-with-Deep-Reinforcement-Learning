{
 "cells": [
  {
   "cell_type": "code",
   "execution_count": 1,
   "metadata": {},
   "outputs": [],
   "source": [
    "import numpy as np\n",
    "from simulation import show_environment_state"
   ]
  },
  {
   "cell_type": "code",
   "execution_count": 2,
   "metadata": {},
   "outputs": [],
   "source": [
    "# one hot encode each tile into 5 possible categories:\n",
    "# index 0: cut_grass\n",
    "# index 1: tall_grass\n",
    "# index 2: pavement\n",
    "# index 3: wood\n",
    "# index 4: agent\n",
    "# I chose to exclude all arrows to simplify the input\n",
    "\n",
    "def one_hot_encode_tile(tile): # given single tile returns one hot encoding\n",
    "    \n",
    "    if (tile[0][1] != 0) and (tile[0][2] == 0): # if agent\n",
    "        return np.array([0, 0, 0, 0, 1])\n",
    "    if tile[0][0] == '1': # if cut_grass\n",
    "        return np.array([1, 0, 0, 0, 0])\n",
    "    elif tile[0][0] == '8': # if tall_grass\n",
    "        return np.array([0, 1, 0, 0, 0])\n",
    "    elif tile[0][0] == '2': # if pavement\n",
    "        return np.array([0, 0, 1, 0, 0])\n",
    "    elif tile[0][0] == '9': # if wood\n",
    "        return np.array([0, 0, 0, 1, 0])\n",
    "    else:\n",
    "        raise Exception('invalid tile_id ' + tile)\n",
    "        \n",
    "def one_hot_encode_environment_state(environment_state):\n",
    "    # produces matrix of shape ((environment_x_dim * environment_y_dim), num_categories_in_ohe) with tiles on the x axis and the ohe tile category on the y axis\n",
    "    # applies the one_hot_encode_tile function on every tile\n",
    "    \n",
    "    return np.apply_along_axis(one_hot_encode_tile, 1, np.expand_dims(environment_state.flatten(), 1)).astype('float')"
   ]
  },
  {
   "cell_type": "code",
   "execution_count": 3,
   "metadata": {},
   "outputs": [
    {
     "data": {
      "text/plain": [
       "array([[0., 0., 0., 1., 0.],\n",
       "       [0., 0., 0., 1., 0.],\n",
       "       [0., 1., 0., 0., 0.],\n",
       "       ...,\n",
       "       [0., 1., 0., 0., 0.],\n",
       "       [0., 1., 0., 0., 0.],\n",
       "       [0., 1., 0., 0., 0.]])"
      ]
     },
     "execution_count": 3,
     "metadata": {},
     "output_type": "execute_result"
    }
   ],
   "source": [
    "example_environment_state = np.array([\n",
    "    ['900', '900', '800', '800', '800', '800', '800', '800', '800', '800', '800', '800', '800', '800', '800', '800', '800', '800', '800', '800', '800', '800'],\n",
    "    ['800', '800', '800', '800', '800', '800', '800', '800', '800', '800', '800', '800', '800', '800', '800', '800', '800', '800', '800', '800', '800', '800'],\n",
    "    ['800', '800', '800', '800', '800', '800', '800', '800', '800', '800', '800', '800', '800', '800', '800', '800', '800', '800', '800', '800', '800', '800'],\n",
    "    ['800', '800', '800', '800', '800', '800', '800', '800', '800', '800', '800', '800', '800', '800', '800', '800', '800', '800', '800', '800', '800', '800'],\n",
    "    ['800', '800', '800', '800', '800', '800', '800', '800', '800', '800', '900', '900', '900', '800', '800', '800', '800', '800', '800', '800', '800', '800'],\n",
    "    ['800', '123', '140', '800', '800', '800', '800', '800', '800', '800', '900', '900', '900', '800', '800', '800', '800', '800', '800', '800', '800', '800'],\n",
    "    ['800', '121', '800', '800', '200', '200', '200', '200', '900', '900', '900', '900', '900', '900', '900', '900', '800', '800', '800', '800', '800', '800'],\n",
    "    ['800', '131', '124', '800', '200', '200', '200', '200', '900', '900', '900', '900', '900', '900', '900', '900', '800', '800', '800', '800', '800', '800'],\n",
    "    ['800', '800', '121', '800', '200', '200', '800', '800', '102', '800', '800', '800', '900', '900', '900', '900', '800', '800', '800', '800', '800', '800'],\n",
    "    ['800', '800', '131', '134', '224', '200', '800', '800', '112', '800', '800', '800', '900', '900', '900', '900', '800', '800', '800', '800', '800', '800'],\n",
    "    ['800', '800', '800', '800', '221', '200', '800', '800', '112', '800', '800', '800', '800', '800', '800', '800', '800', '800', '800', '800', '800', '800'],\n",
    "    ['800', '800', '800', '800', '231', '234', '134', '134', '114', '800', '800', '800', '800', '800', '800', '800', '800', '800', '800', '800', '800', '800'],\n",
    "    ['200', '200', '200', '200', '200', '200', '800', '800', '800', '800', '900', '900', '800', '800', '800', '800', '800', '800', '900', '900', '800', '800'],\n",
    "    ['200', '200', '200', '200', '200', '200', '800', '800', '800', '800', '900', '900', '800', '800', '800', '800', '800', '800', '900', '900', '800', '800'],\n",
    "    ['800', '800', '800', '800', '800', '800', '800', '800', '800', '800', '800', '800', '800', '800', '800', '800', '800', '800', '800', '800', '800', '800'],\n",
    "    ['800', '800', '800', '800', '800', '800', '800', '800', '800', '800', '800', '800', '800', '800', '800', '800', '800', '800', '800', '800', '800', '800']])\n",
    "#show_environment_state(example_environment_state)\n",
    "\n",
    "one_hot_encode_environment_state(example_environment_state)"
   ]
  },
  {
   "cell_type": "code",
   "execution_count": null,
   "metadata": {},
   "outputs": [],
   "source": []
  }
 ],
 "metadata": {
  "kernelspec": {
   "display_name": "Python 3",
   "language": "python",
   "name": "python3"
  },
  "language_info": {
   "codemirror_mode": {
    "name": "ipython",
    "version": 3
   },
   "file_extension": ".py",
   "mimetype": "text/x-python",
   "name": "python",
   "nbconvert_exporter": "python",
   "pygments_lexer": "ipython3",
   "version": "3.6.3"
  }
 },
 "nbformat": 4,
 "nbformat_minor": 2
}
